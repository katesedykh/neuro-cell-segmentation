{
 "cells": [
  {
   "cell_type": "code",
   "execution_count": 1,
   "id": "6b6dce47",
   "metadata": {
    "_cell_guid": "b1076dfc-b9ad-4769-8c92-a6c4dae69d19",
    "_uuid": "8f2839f25d086af736a60e9eeb907d3b93b6e0e5",
    "execution": {
     "iopub.execute_input": "2021-12-29T11:59:13.385091Z",
     "iopub.status.busy": "2021-12-29T11:59:13.384315Z",
     "iopub.status.idle": "2021-12-29T11:59:59.461309Z",
     "shell.execute_reply": "2021-12-29T11:59:59.460466Z"
    },
    "papermill": {
     "duration": 46.096681,
     "end_time": "2021-12-29T11:59:59.461465",
     "exception": false,
     "start_time": "2021-12-29T11:59:13.364784",
     "status": "completed"
    },
    "tags": []
   },
   "outputs": [
    {
     "name": "stdout",
     "output_type": "stream",
     "text": [
      "Processing /kaggle/input/mmdetectionv2140/pycocotools-2.0.2/pycocotools-2.0.2\r\n",
      "  Preparing metadata (setup.py) ... \u001b[?25l-\b \b\\\b \bdone\r\n",
      "\u001b[?25hBuilding wheels for collected packages: pycocotools\r\n",
      "  Building wheel for pycocotools (setup.py) ... \u001b[?25l-\b \berror\r\n",
      "\u001b[31m  ERROR: Command errored out with exit status 1:\r\n",
      "   command: /opt/conda/bin/python3.7 -u -c 'import io, os, sys, setuptools, tokenize; sys.argv[0] = '\"'\"'/kaggle/input/mmdetectionv2140/pycocotools-2.0.2/pycocotools-2.0.2/setup.py'\"'\"'; __file__='\"'\"'/kaggle/input/mmdetectionv2140/pycocotools-2.0.2/pycocotools-2.0.2/setup.py'\"'\"';f = getattr(tokenize, '\"'\"'open'\"'\"', open)(__file__) if os.path.exists(__file__) else io.StringIO('\"'\"'from setuptools import setup; setup()'\"'\"');code = f.read().replace('\"'\"'\\r\\n'\"'\"', '\"'\"'\\n'\"'\"');f.close();exec(compile(code, __file__, '\"'\"'exec'\"'\"'))' bdist_wheel -d /tmp/pip-wheel-knf9_amv\r\n",
      "       cwd: /kaggle/input/mmdetectionv2140/pycocotools-2.0.2/pycocotools-2.0.2/\r\n",
      "  Complete output (5 lines):\r\n",
      "  running bdist_wheel\r\n",
      "  running build\r\n",
      "  running build_py\r\n",
      "  creating build\r\n",
      "  error: could not create 'build': Read-only file system\r\n",
      "  ----------------------------------------\u001b[0m\r\n",
      "\u001b[31m  ERROR: Failed building wheel for pycocotools\u001b[0m\r\n",
      "\u001b[?25h  Running setup.py clean for pycocotools\r\n",
      "Failed to build pycocotools\r\n",
      "Installing collected packages: pycocotools\r\n",
      "    Running setup.py install for pycocotools ... \u001b[?25l-\b \berror\r\n",
      "\u001b[31m    ERROR: Command errored out with exit status 1:\r\n",
      "     command: /opt/conda/bin/python3.7 -u -c 'import io, os, sys, setuptools, tokenize; sys.argv[0] = '\"'\"'/kaggle/input/mmdetectionv2140/pycocotools-2.0.2/pycocotools-2.0.2/setup.py'\"'\"'; __file__='\"'\"'/kaggle/input/mmdetectionv2140/pycocotools-2.0.2/pycocotools-2.0.2/setup.py'\"'\"';f = getattr(tokenize, '\"'\"'open'\"'\"', open)(__file__) if os.path.exists(__file__) else io.StringIO('\"'\"'from setuptools import setup; setup()'\"'\"');code = f.read().replace('\"'\"'\\r\\n'\"'\"', '\"'\"'\\n'\"'\"');f.close();exec(compile(code, __file__, '\"'\"'exec'\"'\"'))' install --record /tmp/pip-record-l36ciw_u/install-record.txt --single-version-externally-managed --compile --install-headers /opt/conda/include/python3.7m/pycocotools\r\n",
      "         cwd: /kaggle/input/mmdetectionv2140/pycocotools-2.0.2/pycocotools-2.0.2/\r\n",
      "    Complete output (7 lines):\r\n",
      "    running install\r\n",
      "    /opt/conda/lib/python3.7/site-packages/setuptools/command/install.py:37: SetuptoolsDeprecationWarning: setup.py install is deprecated. Use build and pip and other standards-based tools.\r\n",
      "      setuptools.SetuptoolsDeprecationWarning,\r\n",
      "    running build\r\n",
      "    running build_py\r\n",
      "    creating build\r\n",
      "    error: could not create 'build': Read-only file system\r\n",
      "    ----------------------------------------\u001b[0m\r\n",
      "\u001b[31mERROR: Command errored out with exit status 1: /opt/conda/bin/python3.7 -u -c 'import io, os, sys, setuptools, tokenize; sys.argv[0] = '\"'\"'/kaggle/input/mmdetectionv2140/pycocotools-2.0.2/pycocotools-2.0.2/setup.py'\"'\"'; __file__='\"'\"'/kaggle/input/mmdetectionv2140/pycocotools-2.0.2/pycocotools-2.0.2/setup.py'\"'\"';f = getattr(tokenize, '\"'\"'open'\"'\"', open)(__file__) if os.path.exists(__file__) else io.StringIO('\"'\"'from setuptools import setup; setup()'\"'\"');code = f.read().replace('\"'\"'\\r\\n'\"'\"', '\"'\"'\\n'\"'\"');f.close();exec(compile(code, __file__, '\"'\"'exec'\"'\"'))' install --record /tmp/pip-record-l36ciw_u/install-record.txt --single-version-externally-managed --compile --install-headers /opt/conda/include/python3.7m/pycocotools Check the logs for full command output.\u001b[0m\r\n",
      "\u001b[?25hLooking in links: ../input/detectron2-offline/detectron2\r\n",
      "Processing /kaggle/input/detectron2-offline/detectron2/detectron2-0.6-cp37-cp37m-linux_x86_64.whl\r\n",
      "Requirement already satisfied: tqdm>4.29.0 in /opt/conda/lib/python3.7/site-packages (from detectron2==0.6) (4.62.3)\r\n",
      "Requirement already satisfied: tensorboard in /opt/conda/lib/python3.7/site-packages (from detectron2==0.6) (2.6.0)\r\n",
      "Processing /kaggle/input/detectron2-offline/detectron2/fvcore-0.1.5.post20211023-py3-none-any.whl\r\n",
      "Requirement already satisfied: future in /opt/conda/lib/python3.7/site-packages (from detectron2==0.6) (0.18.2)\r\n",
      "Requirement already satisfied: matplotlib in /opt/conda/lib/python3.7/site-packages (from detectron2==0.6) (3.5.0)\r\n",
      "Requirement already satisfied: yacs>=0.1.8 in /opt/conda/lib/python3.7/site-packages (from detectron2==0.6) (0.1.8)\r\n",
      "Processing /kaggle/input/detectron2-offline/detectron2/black-21.4b2-py3-none-any.whl\r\n",
      "Requirement already satisfied: pydot in /opt/conda/lib/python3.7/site-packages (from detectron2==0.6) (1.4.2)\r\n",
      "Requirement already satisfied: cloudpickle in /opt/conda/lib/python3.7/site-packages (from detectron2==0.6) (2.0.0)\r\n",
      "Processing /kaggle/input/detectron2-offline/detectron2/pycocotools-2.0.2-cp37-cp37m-linux_x86_64.whl\r\n",
      "Requirement already satisfied: Pillow>=7.1 in /opt/conda/lib/python3.7/site-packages (from detectron2==0.6) (8.2.0)\r\n",
      "Requirement already satisfied: termcolor>=1.1 in /opt/conda/lib/python3.7/site-packages (from detectron2==0.6) (1.1.0)\r\n",
      "Processing /kaggle/input/detectron2-offline/detectron2/iopath-0.1.9-py3-none-any.whl\r\n",
      "Processing /kaggle/input/detectron2-offline/detectron2/hydra_core-1.1.1-py3-none-any.whl\r\n",
      "Processing /kaggle/input/detectron2-offline/detectron2/omegaconf-2.1.1-py3-none-any.whl\r\n",
      "Requirement already satisfied: tabulate in /opt/conda/lib/python3.7/site-packages (from detectron2==0.6) (0.8.9)\r\n",
      "Requirement already satisfied: appdirs in /opt/conda/lib/python3.7/site-packages (from black==21.4b2->detectron2==0.6) (1.4.4)\r\n",
      "Requirement already satisfied: mypy-extensions>=0.4.3 in /opt/conda/lib/python3.7/site-packages (from black==21.4b2->detectron2==0.6) (0.4.3)\r\n",
      "Requirement already satisfied: pathspec<1,>=0.8.1 in /opt/conda/lib/python3.7/site-packages (from black==21.4b2->detectron2==0.6) (0.9.0)\r\n",
      "Requirement already satisfied: click>=7.1.2 in /opt/conda/lib/python3.7/site-packages (from black==21.4b2->detectron2==0.6) (8.0.3)\r\n",
      "Requirement already satisfied: typing-extensions>=3.7.4 in /opt/conda/lib/python3.7/site-packages (from black==21.4b2->detectron2==0.6) (3.10.0.2)\r\n",
      "Requirement already satisfied: regex>=2020.1.8 in /opt/conda/lib/python3.7/site-packages (from black==21.4b2->detectron2==0.6) (2021.11.10)\r\n",
      "Requirement already satisfied: toml>=0.10.1 in /opt/conda/lib/python3.7/site-packages (from black==21.4b2->detectron2==0.6) (0.10.2)\r\n",
      "Requirement already satisfied: typed-ast>=1.4.2 in /opt/conda/lib/python3.7/site-packages (from black==21.4b2->detectron2==0.6) (1.5.0)\r\n",
      "Requirement already satisfied: pyyaml>=5.1 in /opt/conda/lib/python3.7/site-packages (from fvcore<0.1.6,>=0.1.5->detectron2==0.6) (6.0)\r\n",
      "Requirement already satisfied: numpy in /opt/conda/lib/python3.7/site-packages (from fvcore<0.1.6,>=0.1.5->detectron2==0.6) (1.19.5)\r\n",
      "Requirement already satisfied: importlib-resources in /opt/conda/lib/python3.7/site-packages (from hydra-core>=1.1->detectron2==0.6) (5.4.0)\r\n",
      "Processing /kaggle/input/detectron2-offline/detectron2/antlr4_python3_runtime-4.8-py3-none-any.whl\r\n",
      "Requirement already satisfied: portalocker in /opt/conda/lib/python3.7/site-packages (from iopath<0.1.10,>=0.1.7->detectron2==0.6) (2.3.2)\r\n",
      "Requirement already satisfied: setuptools>=18.0 in /opt/conda/lib/python3.7/site-packages (from pycocotools>=2.0.2->detectron2==0.6) (59.1.1)\r\n",
      "Requirement already satisfied: cython>=0.27.3 in /opt/conda/lib/python3.7/site-packages (from pycocotools>=2.0.2->detectron2==0.6) (0.29.24)\r\n",
      "Requirement already satisfied: pyparsing>=2.2.1 in /opt/conda/lib/python3.7/site-packages (from matplotlib->detectron2==0.6) (3.0.6)\r\n",
      "Requirement already satisfied: fonttools>=4.22.0 in /opt/conda/lib/python3.7/site-packages (from matplotlib->detectron2==0.6) (4.28.2)\r\n",
      "Requirement already satisfied: cycler>=0.10 in /opt/conda/lib/python3.7/site-packages (from matplotlib->detectron2==0.6) (0.11.0)\r\n",
      "Requirement already satisfied: kiwisolver>=1.0.1 in /opt/conda/lib/python3.7/site-packages (from matplotlib->detectron2==0.6) (1.3.2)\r\n",
      "Requirement already satisfied: setuptools-scm>=4 in /opt/conda/lib/python3.7/site-packages (from matplotlib->detectron2==0.6) (6.3.2)\r\n",
      "Requirement already satisfied: python-dateutil>=2.7 in /opt/conda/lib/python3.7/site-packages (from matplotlib->detectron2==0.6) (2.8.0)\r\n",
      "Requirement already satisfied: packaging>=20.0 in /opt/conda/lib/python3.7/site-packages (from matplotlib->detectron2==0.6) (21.0)\r\n",
      "Requirement already satisfied: requests<3,>=2.21.0 in /opt/conda/lib/python3.7/site-packages (from tensorboard->detectron2==0.6) (2.25.1)\r\n",
      "Requirement already satisfied: google-auth<2,>=1.6.3 in /opt/conda/lib/python3.7/site-packages (from tensorboard->detectron2==0.6) (1.35.0)\r\n",
      "Requirement already satisfied: google-auth-oauthlib<0.5,>=0.4.1 in /opt/conda/lib/python3.7/site-packages (from tensorboard->detectron2==0.6) (0.4.6)\r\n",
      "Requirement already satisfied: werkzeug>=0.11.15 in /opt/conda/lib/python3.7/site-packages (from tensorboard->detectron2==0.6) (2.0.2)\r\n",
      "Requirement already satisfied: markdown>=2.6.8 in /opt/conda/lib/python3.7/site-packages (from tensorboard->detectron2==0.6) (3.3.6)\r\n",
      "Requirement already satisfied: wheel>=0.26 in /opt/conda/lib/python3.7/site-packages (from tensorboard->detectron2==0.6) (0.37.0)\r\n",
      "Requirement already satisfied: protobuf>=3.6.0 in /opt/conda/lib/python3.7/site-packages (from tensorboard->detectron2==0.6) (3.19.1)\r\n",
      "Requirement already satisfied: absl-py>=0.4 in /opt/conda/lib/python3.7/site-packages (from tensorboard->detectron2==0.6) (0.15.0)\r\n",
      "Requirement already satisfied: tensorboard-data-server<0.7.0,>=0.6.0 in /opt/conda/lib/python3.7/site-packages (from tensorboard->detectron2==0.6) (0.6.1)\r\n",
      "Requirement already satisfied: tensorboard-plugin-wit>=1.6.0 in /opt/conda/lib/python3.7/site-packages (from tensorboard->detectron2==0.6) (1.8.0)\r\n",
      "Requirement already satisfied: grpcio>=1.24.3 in /opt/conda/lib/python3.7/site-packages (from tensorboard->detectron2==0.6) (1.42.0)\r\n",
      "Requirement already satisfied: six in /opt/conda/lib/python3.7/site-packages (from absl-py>=0.4->tensorboard->detectron2==0.6) (1.16.0)\r\n",
      "Requirement already satisfied: importlib-metadata in /opt/conda/lib/python3.7/site-packages (from click>=7.1.2->black==21.4b2->detectron2==0.6) (4.8.2)\r\n",
      "Requirement already satisfied: rsa<5,>=3.1.4 in /opt/conda/lib/python3.7/site-packages (from google-auth<2,>=1.6.3->tensorboard->detectron2==0.6) (4.7.2)\r\n",
      "Requirement already satisfied: pyasn1-modules>=0.2.1 in /opt/conda/lib/python3.7/site-packages (from google-auth<2,>=1.6.3->tensorboard->detectron2==0.6) (0.2.7)\r\n",
      "Requirement already satisfied: cachetools<5.0,>=2.0.0 in /opt/conda/lib/python3.7/site-packages (from google-auth<2,>=1.6.3->tensorboard->detectron2==0.6) (4.2.4)\r\n",
      "Requirement already satisfied: requests-oauthlib>=0.7.0 in /opt/conda/lib/python3.7/site-packages (from google-auth-oauthlib<0.5,>=0.4.1->tensorboard->detectron2==0.6) (1.3.0)\r\n",
      "Requirement already satisfied: chardet<5,>=3.0.2 in /opt/conda/lib/python3.7/site-packages (from requests<3,>=2.21.0->tensorboard->detectron2==0.6) (4.0.0)\r\n",
      "Requirement already satisfied: certifi>=2017.4.17 in /opt/conda/lib/python3.7/site-packages (from requests<3,>=2.21.0->tensorboard->detectron2==0.6) (2021.10.8)\r\n",
      "Requirement already satisfied: urllib3<1.27,>=1.21.1 in /opt/conda/lib/python3.7/site-packages (from requests<3,>=2.21.0->tensorboard->detectron2==0.6) (1.26.7)\r\n",
      "Requirement already satisfied: idna<3,>=2.5 in /opt/conda/lib/python3.7/site-packages (from requests<3,>=2.21.0->tensorboard->detectron2==0.6) (2.10)\r\n",
      "Requirement already satisfied: tomli>=1.0.0 in /opt/conda/lib/python3.7/site-packages (from setuptools-scm>=4->matplotlib->detectron2==0.6) (1.2.2)\r\n",
      "Requirement already satisfied: zipp>=3.1.0 in /opt/conda/lib/python3.7/site-packages (from importlib-resources->hydra-core>=1.1->detectron2==0.6) (3.6.0)\r\n",
      "Requirement already satisfied: pyasn1<0.5.0,>=0.4.6 in /opt/conda/lib/python3.7/site-packages (from pyasn1-modules>=0.2.1->google-auth<2,>=1.6.3->tensorboard->detectron2==0.6) (0.4.8)\r\n",
      "Requirement already satisfied: oauthlib>=3.0.0 in /opt/conda/lib/python3.7/site-packages (from requests-oauthlib>=0.7.0->google-auth-oauthlib<0.5,>=0.4.1->tensorboard->detectron2==0.6) (3.1.1)\r\n",
      "Installing collected packages: antlr4-python3-runtime, omegaconf, iopath, pycocotools, hydra-core, fvcore, black, detectron2\r\n",
      "  Attempting uninstall: black\r\n",
      "    Found existing installation: black 21.10b0\r\n",
      "    Uninstalling black-21.10b0:\r\n",
      "      Successfully uninstalled black-21.10b0\r\n",
      "Successfully installed antlr4-python3-runtime-4.8 black-21.4b2 detectron2-0.6 fvcore-0.1.5.post20211023 hydra-core-1.1.1 iopath-0.1.9 omegaconf-2.1.1 pycocotools-2.0.2\r\n",
      "\u001b[33mWARNING: Running pip as the 'root' user can result in broken permissions and conflicting behaviour with the system package manager. It is recommended to use a virtual environment instead: https://pip.pypa.io/warnings/venv\u001b[0m\r\n"
     ]
    }
   ],
   "source": [
    "!pip install '/kaggle/input/mmdetectionv2140/pycocotools-2.0.2/pycocotools-2.0.2' --no-deps\n",
    "!pip install --no-index ../input/detectron2-offline/detectron2/detectron2-0.6-cp37-cp37m-linux_x86_64.whl --find-links=../input/detectron2-offline/detectron2"
   ]
  },
  {
   "cell_type": "code",
   "execution_count": 2,
   "id": "d2fdadf7",
   "metadata": {
    "execution": {
     "iopub.execute_input": "2021-12-29T11:59:59.494870Z",
     "iopub.status.busy": "2021-12-29T11:59:59.493237Z",
     "iopub.status.idle": "2021-12-29T12:00:01.982199Z",
     "shell.execute_reply": "2021-12-29T12:00:01.981133Z",
     "shell.execute_reply.started": "2021-12-28T19:27:05.619847Z"
    },
    "papermill": {
     "duration": 2.507213,
     "end_time": "2021-12-29T12:00:01.982349",
     "exception": false,
     "start_time": "2021-12-29T11:59:59.475136",
     "status": "completed"
    },
    "tags": []
   },
   "outputs": [],
   "source": [
    "import detectron2\n",
    "import torch\n",
    "from detectron2 import model_zoo\n",
    "from detectron2.engine import DefaultPredictor\n",
    "from detectron2.config import get_cfg\n",
    "from detectron2.data import MetadataCatalog, DatasetCatalog\n",
    "from detectron2.data.datasets import register_coco_instances\n",
    "import os\n",
    "\n",
    "from PIL import Image\n",
    "import numpy as np  \n",
    "import pandas as pd \n",
    "import cv2  \n",
    "import matplotlib.pyplot as plt"
   ]
  },
  {
   "cell_type": "code",
   "execution_count": 3,
   "id": "20321a28",
   "metadata": {
    "execution": {
     "iopub.execute_input": "2021-12-29T12:00:02.034936Z",
     "iopub.status.busy": "2021-12-29T12:00:02.033270Z",
     "iopub.status.idle": "2021-12-29T12:00:02.035509Z",
     "shell.execute_reply": "2021-12-29T12:00:02.035966Z",
     "shell.execute_reply.started": "2021-12-28T19:27:23.137429Z"
    },
    "papermill": {
     "duration": 0.039756,
     "end_time": "2021-12-29T12:00:02.036114",
     "exception": false,
     "start_time": "2021-12-29T12:00:01.996358",
     "status": "completed"
    },
    "tags": []
   },
   "outputs": [],
   "source": [
    "cfg = get_cfg()\n",
    "\n",
    "cfg.INPUT.MASK_FORMAT='bitmask'\n",
    "cfg.merge_from_file(model_zoo.get_config_file(\"COCO-InstanceSegmentation/mask_rcnn_X_101_32x8d_FPN_3x.yaml\"))\n",
    "cfg.DATASETS.TRAIN = (\"sartorius_cells_train\",)\n",
    "cfg.DATASETS.TEST = (\"sartorius_cells_val\",)\n",
    "cfg.DATALOADER.NUM_WORKERS = 2\n",
    "cfg.SOLVER.IMS_PER_BATCH = 2\n",
    "cfg.SOLVER.BASE_LR = 0.001 \n",
    "cfg.SOLVER.MAX_ITER = 3000    \n",
    "cfg.SOLVER.STEPS = []        \n",
    "cfg.MODEL.ROI_HEADS.BATCH_SIZE_PER_IMAGE = 128   \n",
    "cfg.MODEL.ROI_HEADS.NUM_CLASSES = 3  \n",
    "cfg.MODEL.ROI_HEADS.SCORE_THRESH_TEST = .35\n",
    "cfg.MODEL.ROI_HEADS.NMS_THRESH_TEST = 0.7\n"
   ]
  },
  {
   "cell_type": "code",
   "execution_count": 4,
   "id": "7d74b2e5",
   "metadata": {
    "execution": {
     "iopub.execute_input": "2021-12-29T12:00:02.069918Z",
     "iopub.status.busy": "2021-12-29T12:00:02.069248Z",
     "iopub.status.idle": "2021-12-29T12:00:14.770771Z",
     "shell.execute_reply": "2021-12-29T12:00:14.770298Z",
     "shell.execute_reply.started": "2021-12-28T19:34:51.139589Z"
    },
    "papermill": {
     "duration": 12.720935,
     "end_time": "2021-12-29T12:00:14.770925",
     "exception": false,
     "start_time": "2021-12-29T12:00:02.049990",
     "status": "completed"
    },
    "tags": []
   },
   "outputs": [],
   "source": [
    "ids, masks=[],[]\n",
    "test_names = os.listdir('../input/sartorius-cell-instance-segmentation/test')\n",
    "\n",
    "cfg = get_cfg()\n",
    "from detectron2.projects.point_rend import add_pointrend_config\n",
    "add_pointrend_config(cfg)\n",
    "cfg.merge_from_file(model_zoo.get_config_file(\"COCO-InstanceSegmentation/mask_rcnn_X_101_32x8d_FPN_3x.yaml\"))\n",
    "cfg.INPUT.MASK_FORMAT='bitmask'\n",
    "cfg.MODEL.ROI_HEADS.NUM_CLASSES = 3 \n",
    "cfg.MODEL.WEIGHTS = '../input/trained-model/model_final_3_5it_lr1.pth'  \n",
    "cfg.TEST.DETECTIONS_PER_IMAGE = 1500\n",
    "predictor = DefaultPredictor(cfg)\n",
    "THRESHOLDS = [.15, .35, .55] \n",
    "MIN_PIXELS = [75, 150, 75]"
   ]
  },
  {
   "cell_type": "code",
   "execution_count": 5,
   "id": "c0e78c5b",
   "metadata": {
    "execution": {
     "iopub.execute_input": "2021-12-29T12:00:14.809636Z",
     "iopub.status.busy": "2021-12-29T12:00:14.808948Z",
     "iopub.status.idle": "2021-12-29T12:00:14.811523Z",
     "shell.execute_reply": "2021-12-29T12:00:14.811131Z",
     "shell.execute_reply.started": "2021-12-28T19:35:25.270287Z"
    },
    "papermill": {
     "duration": 0.02715,
     "end_time": "2021-12-29T12:00:14.811628",
     "exception": false,
     "start_time": "2021-12-29T12:00:14.784478",
     "status": "completed"
    },
    "tags": []
   },
   "outputs": [],
   "source": [
    "# From https://www.kaggle.com/stainsby/fast-tested-rle\n",
    "def rle_decode(mask_rle, shape=(520, 704)):\n",
    "    '''\n",
    "    mask_rle: run-length as string formated (start length)\n",
    "    shape: (height,width) of array to return \n",
    "    Returns numpy array, 1 - mask, 0 - background\n",
    "\n",
    "    '''\n",
    "    s = mask_rle.split()\n",
    "    starts, lengths = [np.asarray(x, dtype=int) for x in (s[0:][::2], s[1:][::2])]\n",
    "    starts -= 1\n",
    "    ends = starts + lengths\n",
    "    img = np.zeros(shape[0]*shape[1], dtype=np.uint8)\n",
    "    for lo, hi in zip(starts, ends):\n",
    "        img[lo:hi] = 1\n",
    "    return img.reshape(shape)  # Needed to align to RLE direction\n",
    "def rle_encode(img):\n",
    "    '''\n",
    "    img: numpy array, 1 - mask, 0 - background\n",
    "    Returns run length as string formated\n",
    "    '''\n",
    "    pixels = img.flatten()\n",
    "    pixels = np.concatenate([[0], pixels, [0]])\n",
    "    runs = np.where(pixels[1:] != pixels[:-1])[0] + 1\n",
    "    runs[1::2] -= runs[::2]\n",
    "    return ' '.join(str(x) for x in runs)\n",
    "def get_masks(fn, predictor):\n",
    "    im = cv2.imread(str(fn))\n",
    "    pred = predictor(im)\n",
    "    pred_class = torch.mode(pred['instances'].pred_classes)[0]\n",
    "    take = pred['instances'].scores >= THRESHOLDS[pred_class]\n",
    "    pred_masks = pred['instances'].pred_masks[take]\n",
    "    pred_masks = pred_masks.cpu().numpy()\n",
    "    res = []\n",
    "    used = np.zeros(im.shape[:2], dtype=int) \n",
    "    for mask in pred_masks:\n",
    "        mask = mask * (1-used)\n",
    "        if mask.sum() >= MIN_PIXELS[pred_class]: # skip predictions with small area\n",
    "            used += mask\n",
    "            res.append(rle_encode(mask))\n",
    "    return res"
   ]
  },
  {
   "cell_type": "code",
   "execution_count": 6,
   "id": "b0e22b27",
   "metadata": {
    "execution": {
     "iopub.execute_input": "2021-12-29T12:00:14.842206Z",
     "iopub.status.busy": "2021-12-29T12:00:14.841690Z",
     "iopub.status.idle": "2021-12-29T12:00:23.085504Z",
     "shell.execute_reply": "2021-12-29T12:00:23.085914Z",
     "shell.execute_reply.started": "2021-12-28T19:35:27.901161Z"
    },
    "papermill": {
     "duration": 8.261631,
     "end_time": "2021-12-29T12:00:23.086064",
     "exception": false,
     "start_time": "2021-12-29T12:00:14.824433",
     "status": "completed"
    },
    "tags": []
   },
   "outputs": [
    {
     "name": "stdout",
     "output_type": "stream",
     "text": [
      "7ae19de7bc2a\n",
      "d8bfd1dafdc4\n",
      "d48ec7815252\n"
     ]
    },
    {
     "data": {
      "text/html": [
       "<div>\n",
       "<style scoped>\n",
       "    .dataframe tbody tr th:only-of-type {\n",
       "        vertical-align: middle;\n",
       "    }\n",
       "\n",
       "    .dataframe tbody tr th {\n",
       "        vertical-align: top;\n",
       "    }\n",
       "\n",
       "    .dataframe thead th {\n",
       "        text-align: right;\n",
       "    }\n",
       "</style>\n",
       "<table border=\"1\" class=\"dataframe\">\n",
       "  <thead>\n",
       "    <tr style=\"text-align: right;\">\n",
       "      <th></th>\n",
       "      <th>id</th>\n",
       "      <th>predicted</th>\n",
       "    </tr>\n",
       "  </thead>\n",
       "  <tbody>\n",
       "    <tr>\n",
       "      <th>0</th>\n",
       "      <td>7ae19de7bc2a</td>\n",
       "      <td>178898 3 179601 4 180304 5 181008 6 181711 7 1...</td>\n",
       "    </tr>\n",
       "    <tr>\n",
       "      <th>1</th>\n",
       "      <td>7ae19de7bc2a</td>\n",
       "      <td>318197 10 318898 14 319599 17 320301 19 321002...</td>\n",
       "    </tr>\n",
       "    <tr>\n",
       "      <th>2</th>\n",
       "      <td>7ae19de7bc2a</td>\n",
       "      <td>140002 16 140706 22 141410 22 142114 23 142819...</td>\n",
       "    </tr>\n",
       "    <tr>\n",
       "      <th>3</th>\n",
       "      <td>7ae19de7bc2a</td>\n",
       "      <td>146004 3 146708 8 147412 10 148116 12 148820 1...</td>\n",
       "    </tr>\n",
       "    <tr>\n",
       "      <th>4</th>\n",
       "      <td>7ae19de7bc2a</td>\n",
       "      <td>60101 5 60804 7 61507 9 62210 10 62913 12 6361...</td>\n",
       "    </tr>\n",
       "  </tbody>\n",
       "</table>\n",
       "</div>"
      ],
      "text/plain": [
       "             id                                          predicted\n",
       "0  7ae19de7bc2a  178898 3 179601 4 180304 5 181008 6 181711 7 1...\n",
       "1  7ae19de7bc2a  318197 10 318898 14 319599 17 320301 19 321002...\n",
       "2  7ae19de7bc2a  140002 16 140706 22 141410 22 142114 23 142819...\n",
       "3  7ae19de7bc2a  146004 3 146708 8 147412 10 148116 12 148820 1...\n",
       "4  7ae19de7bc2a  60101 5 60804 7 61507 9 62210 10 62913 12 6361..."
      ]
     },
     "execution_count": 6,
     "metadata": {},
     "output_type": "execute_result"
    }
   ],
   "source": [
    "for fn in test_names:\n",
    "    print(fn[:-4])\n",
    "    file = os.path.join(\"../input/sartorius-cell-instance-segmentation/test\", fn)\n",
    "    encoded_masks = get_masks(file, predictor)\n",
    "    for enc in encoded_masks:\n",
    "        ids.append(fn[:-4])\n",
    "        masks.append(enc)\n",
    "        \n",
    "df = pd.DataFrame({'id':ids, 'predicted':masks})\n",
    "df.to_csv('submission.csv', index=False)\n",
    "pd.read_csv('submission.csv').head()"
   ]
  },
  {
   "cell_type": "code",
   "execution_count": null,
   "id": "b0ddf690",
   "metadata": {
    "papermill": {
     "duration": 0.013894,
     "end_time": "2021-12-29T12:00:23.115474",
     "exception": false,
     "start_time": "2021-12-29T12:00:23.101580",
     "status": "completed"
    },
    "tags": []
   },
   "outputs": [],
   "source": []
  }
 ],
 "metadata": {
  "kernelspec": {
   "display_name": "Python 3",
   "language": "python",
   "name": "python3"
  },
  "language_info": {
   "codemirror_mode": {
    "name": "ipython",
    "version": 3
   },
   "file_extension": ".py",
   "mimetype": "text/x-python",
   "name": "python",
   "nbconvert_exporter": "python",
   "pygments_lexer": "ipython3",
   "version": "3.8.3"
  },
  "papermill": {
   "default_parameters": {},
   "duration": 80.428647,
   "end_time": "2021-12-29T12:00:25.296579",
   "environment_variables": {},
   "exception": null,
   "input_path": "__notebook__.ipynb",
   "output_path": "__notebook__.ipynb",
   "parameters": {},
   "start_time": "2021-12-29T11:59:04.867932",
   "version": "2.3.3"
  }
 },
 "nbformat": 4,
 "nbformat_minor": 5
}
